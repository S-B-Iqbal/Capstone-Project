{
 "cells": [
  {
   "cell_type": "code",
   "execution_count": 1,
   "metadata": {},
   "outputs": [],
   "source": [
    "import pandas as pd\n",
    "import numpy as np\n",
    "\n",
    "from sklearn.linear_model import LinearRegression\n",
    "from sklearn import metrics\n",
    "from sklearn.model_selection import train_test_split\n",
    "\n",
    "# Suppress Warnings\n",
    "import warnings\n",
    "warnings.filterwarnings(\"ignore\")"
   ]
  },
  {
   "cell_type": "code",
   "execution_count": 2,
   "metadata": {},
   "outputs": [],
   "source": [
    "customer_data = pd.read_csv('BlackFriday.csv')"
   ]
  },
  {
   "cell_type": "code",
   "execution_count": 3,
   "metadata": {},
   "outputs": [],
   "source": [
    "customer_data = customer_data.drop(columns=['Product_Category_2', 'Product_Category_3'], inplace=False,axis=1)"
   ]
  },
  {
   "cell_type": "code",
   "execution_count": 60,
   "metadata": {},
   "outputs": [],
   "source": [
    "del customer"
   ]
  },
  {
   "cell_type": "code",
   "execution_count": 61,
   "metadata": {},
   "outputs": [],
   "source": [
    "customer = customer_data.copy()"
   ]
  },
  {
   "cell_type": "code",
   "execution_count": 62,
   "metadata": {},
   "outputs": [
    {
     "name": "stdout",
     "output_type": "stream",
     "text": [
      "<class 'pandas.core.frame.DataFrame'>\n",
      "RangeIndex: 537577 entries, 0 to 537576\n",
      "Data columns (total 10 columns):\n",
      "User_ID                       537577 non-null int64\n",
      "Product_ID                    537577 non-null object\n",
      "Gender                        537577 non-null object\n",
      "Age                           537577 non-null object\n",
      "Occupation                    537577 non-null int64\n",
      "City_Category                 537577 non-null object\n",
      "Stay_In_Current_City_Years    537577 non-null object\n",
      "Marital_Status                537577 non-null int64\n",
      "Product_Category_1            537577 non-null int64\n",
      "Purchase                      537577 non-null int64\n",
      "dtypes: int64(5), object(5)\n",
      "memory usage: 41.0+ MB\n"
     ]
    }
   ],
   "source": [
    "customer.info()"
   ]
  },
  {
   "cell_type": "markdown",
   "metadata": {},
   "source": [
    "## Feature Engineering"
   ]
  },
  {
   "cell_type": "code",
   "execution_count": 63,
   "metadata": {
    "scrolled": true
   },
   "outputs": [
    {
     "name": "stdout",
     "output_type": "stream",
     "text": [
      "<class 'pandas.core.frame.DataFrame'>\n",
      "RangeIndex: 537577 entries, 0 to 537576\n",
      "Data columns (total 10 columns):\n",
      "User_ID                       537577 non-null category\n",
      "Product_ID                    537577 non-null category\n",
      "Gender                        537577 non-null category\n",
      "Age                           537577 non-null category\n",
      "Occupation                    537577 non-null category\n",
      "City_Category                 537577 non-null category\n",
      "Stay_In_Current_City_Years    537577 non-null category\n",
      "Marital_Status                537577 non-null category\n",
      "Product_Category_1            537577 non-null category\n",
      "Purchase                      537577 non-null int64\n",
      "dtypes: category(9), int64(1)\n",
      "memory usage: 10.1 MB\n",
      "None\n"
     ]
    }
   ],
   "source": [
    "customer['User_ID'] = customer['User_ID'].astype('str', copy=False)\n",
    "customer['Occupation'] = customer['Occupation'].astype('str', copy=False)\n",
    "customer['Marital_Status'] =  customer['Marital_Status'].map({0 : 'UnMarried', 1: 'Married'})\n",
    "customer['Product_Category_1'] = customer['Product_Category_1'].astype('str', copy=False)\n",
    "\n",
    "# Setting all the categorical columns to type category\n",
    "for col in set(customer.columns) - set(customer.describe().columns):\n",
    "    customer[col] = customer[col].astype('category')\n",
    "    \n",
    "\n",
    "print(customer.info())"
   ]
  },
  {
   "cell_type": "markdown",
   "metadata": {},
   "source": [
    "# Average Value"
   ]
  },
  {
   "cell_type": "markdown",
   "metadata": {},
   "source": [
    "## User_ID"
   ]
  },
  {
   "cell_type": "code",
   "execution_count": 64,
   "metadata": {},
   "outputs": [],
   "source": [
    "user_id_avg = customer.pivot_table(index='User_ID', values='Purchase', aggfunc=np.mean)\n",
    "\n",
    "user_id_avg = user_id_avg.rename(index=str, columns={'Purchase': 'Avg_User_Purchase'}) "
   ]
  },
  {
   "cell_type": "code",
   "execution_count": 65,
   "metadata": {},
   "outputs": [],
   "source": [
    "customer.index = customer.User_ID"
   ]
  },
  {
   "cell_type": "code",
   "execution_count": 66,
   "metadata": {},
   "outputs": [],
   "source": [
    "customer = customer.join(user_id_avg, on= 'User_ID')"
   ]
  },
  {
   "cell_type": "markdown",
   "metadata": {},
   "source": [
    "## Product ID"
   ]
  },
  {
   "cell_type": "code",
   "execution_count": 67,
   "metadata": {},
   "outputs": [],
   "source": [
    "## new df which contains Avg value for the column value\n",
    "Product_ID_avg = customer.pivot_table(index='Product_ID', values=\"Purchase\", aggfunc=np.mean)\n",
    "\n",
    "## Change the name of the column\n",
    "Product_ID_avg = Product_ID_avg.rename(index= str, columns ={'Purchase': 'Avg_ProductID_Purchase'})"
   ]
  },
  {
   "cell_type": "code",
   "execution_count": 68,
   "metadata": {},
   "outputs": [],
   "source": [
    "customer.index = customer.Product_ID"
   ]
  },
  {
   "cell_type": "code",
   "execution_count": 69,
   "metadata": {},
   "outputs": [],
   "source": [
    "customer = customer.merge(Product_ID_avg, on='Product_ID' )"
   ]
  },
  {
   "cell_type": "markdown",
   "metadata": {},
   "source": [
    "## Gender"
   ]
  },
  {
   "cell_type": "code",
   "execution_count": 70,
   "metadata": {},
   "outputs": [],
   "source": [
    "gender_avg = customer.pivot_table(index='Gender', values=\"Purchase\", aggfunc=np.mean)\n",
    "\n",
    "gender_avg = gender_avg.rename(index= str, columns ={'Purchase': 'Avg_Gender_Purchase'})"
   ]
  },
  {
   "cell_type": "code",
   "execution_count": 71,
   "metadata": {},
   "outputs": [
    {
     "data": {
      "text/html": [
       "<div>\n",
       "<style scoped>\n",
       "    .dataframe tbody tr th:only-of-type {\n",
       "        vertical-align: middle;\n",
       "    }\n",
       "\n",
       "    .dataframe tbody tr th {\n",
       "        vertical-align: top;\n",
       "    }\n",
       "\n",
       "    .dataframe thead th {\n",
       "        text-align: right;\n",
       "    }\n",
       "</style>\n",
       "<table border=\"1\" class=\"dataframe\">\n",
       "  <thead>\n",
       "    <tr style=\"text-align: right;\">\n",
       "      <th></th>\n",
       "      <th>Avg_Gender_Purchase</th>\n",
       "    </tr>\n",
       "    <tr>\n",
       "      <th>Gender</th>\n",
       "      <th></th>\n",
       "    </tr>\n",
       "  </thead>\n",
       "  <tbody>\n",
       "    <tr>\n",
       "      <th>F</th>\n",
       "      <td>8809.761349</td>\n",
       "    </tr>\n",
       "    <tr>\n",
       "      <th>M</th>\n",
       "      <td>9504.771713</td>\n",
       "    </tr>\n",
       "  </tbody>\n",
       "</table>\n",
       "</div>"
      ],
      "text/plain": [
       "        Avg_Gender_Purchase\n",
       "Gender                     \n",
       "F               8809.761349\n",
       "M               9504.771713"
      ]
     },
     "execution_count": 71,
     "metadata": {},
     "output_type": "execute_result"
    }
   ],
   "source": [
    "gender_avg"
   ]
  },
  {
   "cell_type": "code",
   "execution_count": 72,
   "metadata": {},
   "outputs": [],
   "source": [
    "customer.index = customer.Gender"
   ]
  },
  {
   "cell_type": "code",
   "execution_count": 73,
   "metadata": {},
   "outputs": [],
   "source": [
    "customer = customer.join(gender_avg, on='Gender')"
   ]
  },
  {
   "cell_type": "markdown",
   "metadata": {},
   "source": [
    "## Age"
   ]
  },
  {
   "cell_type": "code",
   "execution_count": 74,
   "metadata": {},
   "outputs": [
    {
     "data": {
      "text/html": [
       "<div>\n",
       "<style scoped>\n",
       "    .dataframe tbody tr th:only-of-type {\n",
       "        vertical-align: middle;\n",
       "    }\n",
       "\n",
       "    .dataframe tbody tr th {\n",
       "        vertical-align: top;\n",
       "    }\n",
       "\n",
       "    .dataframe thead th {\n",
       "        text-align: right;\n",
       "    }\n",
       "</style>\n",
       "<table border=\"1\" class=\"dataframe\">\n",
       "  <thead>\n",
       "    <tr style=\"text-align: right;\">\n",
       "      <th></th>\n",
       "      <th>Avg_Age_Purchase</th>\n",
       "    </tr>\n",
       "    <tr>\n",
       "      <th>Age</th>\n",
       "      <th></th>\n",
       "    </tr>\n",
       "  </thead>\n",
       "  <tbody>\n",
       "    <tr>\n",
       "      <th>0-17</th>\n",
       "      <td>9020.126878</td>\n",
       "    </tr>\n",
       "    <tr>\n",
       "      <th>18-25</th>\n",
       "      <td>9235.197575</td>\n",
       "    </tr>\n",
       "    <tr>\n",
       "      <th>26-35</th>\n",
       "      <td>9314.588970</td>\n",
       "    </tr>\n",
       "    <tr>\n",
       "      <th>36-45</th>\n",
       "      <td>9401.478758</td>\n",
       "    </tr>\n",
       "    <tr>\n",
       "      <th>46-50</th>\n",
       "      <td>9284.872277</td>\n",
       "    </tr>\n",
       "    <tr>\n",
       "      <th>51-55</th>\n",
       "      <td>9620.616620</td>\n",
       "    </tr>\n",
       "    <tr>\n",
       "      <th>55+</th>\n",
       "      <td>9453.898579</td>\n",
       "    </tr>\n",
       "  </tbody>\n",
       "</table>\n",
       "</div>"
      ],
      "text/plain": [
       "       Avg_Age_Purchase\n",
       "Age                    \n",
       "0-17        9020.126878\n",
       "18-25       9235.197575\n",
       "26-35       9314.588970\n",
       "36-45       9401.478758\n",
       "46-50       9284.872277\n",
       "51-55       9620.616620\n",
       "55+         9453.898579"
      ]
     },
     "execution_count": 74,
     "metadata": {},
     "output_type": "execute_result"
    }
   ],
   "source": [
    "age_avg = customer.pivot_table(index='Age', values=\"Purchase\", aggfunc=np.mean)\n",
    "\n",
    "age_avg = age_avg.rename(index= str, columns ={'Purchase': 'Avg_Age_Purchase'})\n",
    "age_avg"
   ]
  },
  {
   "cell_type": "code",
   "execution_count": 75,
   "metadata": {},
   "outputs": [],
   "source": [
    "customer.index = customer.Age\n",
    "\n",
    "customer = customer.join(age_avg, on='Age')"
   ]
  },
  {
   "cell_type": "code",
   "execution_count": 76,
   "metadata": {},
   "outputs": [
    {
     "data": {
      "text/plain": [
       "Index(['User_ID', 'Product_ID', 'Gender', 'Age', 'Occupation', 'City_Category',\n",
       "       'Stay_In_Current_City_Years', 'Marital_Status', 'Product_Category_1',\n",
       "       'Purchase', 'Avg_User_Purchase', 'Avg_ProductID_Purchase',\n",
       "       'Avg_Gender_Purchase', 'Avg_Age_Purchase'],\n",
       "      dtype='object')"
      ]
     },
     "execution_count": 76,
     "metadata": {},
     "output_type": "execute_result"
    }
   ],
   "source": [
    "customer.columns"
   ]
  },
  {
   "cell_type": "markdown",
   "metadata": {},
   "source": [
    "## Occupation"
   ]
  },
  {
   "cell_type": "code",
   "execution_count": 77,
   "metadata": {},
   "outputs": [],
   "source": [
    "Occupation_Avg = customer.pivot_table(index='Occupation', values=\"Purchase\", aggfunc=np.mean)\n",
    "Occupation_Avg = Occupation_Avg.rename(index= str, columns ={'Purchase': 'Avg_Occupation_Purchase'})"
   ]
  },
  {
   "cell_type": "code",
   "execution_count": 78,
   "metadata": {},
   "outputs": [],
   "source": [
    "customer.index = customer.Occupation"
   ]
  },
  {
   "cell_type": "code",
   "execution_count": 79,
   "metadata": {},
   "outputs": [],
   "source": [
    "customer = customer.join(Occupation_Avg, on='Occupation')"
   ]
  },
  {
   "cell_type": "markdown",
   "metadata": {},
   "source": [
    "## City_Category"
   ]
  },
  {
   "cell_type": "code",
   "execution_count": 80,
   "metadata": {},
   "outputs": [],
   "source": [
    "City_Category_avg = customer.pivot_table(index='City_Category', values=\"Purchase\", aggfunc=np.mean)\n",
    "\n",
    "City_Category_avg = City_Category_avg.rename(index= str, columns ={'Purchase': 'Avg_City_Category_Purchase'})"
   ]
  },
  {
   "cell_type": "code",
   "execution_count": 81,
   "metadata": {},
   "outputs": [],
   "source": [
    "customer.index = customer.City_Category"
   ]
  },
  {
   "cell_type": "code",
   "execution_count": 82,
   "metadata": {},
   "outputs": [],
   "source": [
    "customer = customer.join(City_Category_avg, on='City_Category')"
   ]
  },
  {
   "cell_type": "markdown",
   "metadata": {},
   "source": [
    "## Stay_In_Current_City_Years"
   ]
  },
  {
   "cell_type": "code",
   "execution_count": 83,
   "metadata": {},
   "outputs": [],
   "source": [
    "Stay_In_Current_City_Years_avg = customer.pivot_table(index='Stay_In_Current_City_Years', values=\"Purchase\", aggfunc=np.mean)\n",
    "\n",
    "Stay_In_Current_City_Years_avg = Stay_In_Current_City_Years_avg.rename(index= str, columns ={'Purchase': 'Avg_Stay_Years_Purchase'})"
   ]
  },
  {
   "cell_type": "code",
   "execution_count": 84,
   "metadata": {},
   "outputs": [],
   "source": [
    "customer.index = customer.Stay_In_Current_City_Years"
   ]
  },
  {
   "cell_type": "code",
   "execution_count": 85,
   "metadata": {},
   "outputs": [],
   "source": [
    "customer = customer.join(Stay_In_Current_City_Years_avg, on='Stay_In_Current_City_Years')"
   ]
  },
  {
   "cell_type": "markdown",
   "metadata": {},
   "source": [
    "## Marital_Status"
   ]
  },
  {
   "cell_type": "code",
   "execution_count": 86,
   "metadata": {},
   "outputs": [],
   "source": [
    "Marital_Status_avg = customer.pivot_table(index='Marital_Status', values=\"Purchase\", aggfunc=np.mean)\n",
    "\n",
    "Marital_Status_avg = Marital_Status_avg.rename(index= str, columns ={'Purchase': 'Avg_Marital_Status_Purchase'})"
   ]
  },
  {
   "cell_type": "code",
   "execution_count": 87,
   "metadata": {},
   "outputs": [],
   "source": [
    "customer.index = customer.Marital_Status"
   ]
  },
  {
   "cell_type": "code",
   "execution_count": 88,
   "metadata": {},
   "outputs": [],
   "source": [
    "customer = customer.join(Marital_Status_avg, on='Marital_Status')"
   ]
  },
  {
   "cell_type": "markdown",
   "metadata": {},
   "source": [
    "## Product_Category_1"
   ]
  },
  {
   "cell_type": "code",
   "execution_count": 89,
   "metadata": {},
   "outputs": [],
   "source": [
    "Product_Category_1_avg = customer.pivot_table(index='Product_Category_1', values=\"Purchase\", aggfunc=np.mean)\n",
    "\n",
    "Product_Category_1_avg = Product_Category_1_avg.rename(index= str, columns ={'Purchase': 'Avg_Product_Category_1_Purchase'})"
   ]
  },
  {
   "cell_type": "code",
   "execution_count": 90,
   "metadata": {},
   "outputs": [],
   "source": [
    "customer.index = customer.Product_Category_1"
   ]
  },
  {
   "cell_type": "code",
   "execution_count": 91,
   "metadata": {},
   "outputs": [],
   "source": [
    "customer = customer.join(Product_Category_1_avg, on='Product_Category_1')"
   ]
  },
  {
   "cell_type": "code",
   "execution_count": 92,
   "metadata": {
    "scrolled": true
   },
   "outputs": [
    {
     "name": "stdout",
     "output_type": "stream",
     "text": [
      "<class 'pandas.core.frame.DataFrame'>\n",
      "CategoricalIndex: 537577 entries, 3 to 13\n",
      "Data columns (total 19 columns):\n",
      "User_ID                            537577 non-null object\n",
      "Product_ID                         537577 non-null object\n",
      "Gender                             537577 non-null object\n",
      "Age                                537577 non-null object\n",
      "Occupation                         537577 non-null object\n",
      "City_Category                      537577 non-null object\n",
      "Stay_In_Current_City_Years         537577 non-null object\n",
      "Marital_Status                     537577 non-null object\n",
      "Product_Category_1                 537577 non-null object\n",
      "Purchase                           537577 non-null int64\n",
      "Avg_User_Purchase                  537577 non-null float64\n",
      "Avg_ProductID_Purchase             537577 non-null float64\n",
      "Avg_Gender_Purchase                537577 non-null float64\n",
      "Avg_Age_Purchase                   537577 non-null float64\n",
      "Avg_Occupation_Purchase            537577 non-null float64\n",
      "Avg_City_Category_Purchase         537577 non-null float64\n",
      "Avg_Stay_Years_Purchase            537577 non-null float64\n",
      "Avg_Marital_Status_Purchase        537577 non-null float64\n",
      "Avg_Product_Category_1_Purchase    537577 non-null float64\n",
      "dtypes: float64(9), int64(1), object(9)\n",
      "memory usage: 78.4+ MB\n"
     ]
    }
   ],
   "source": [
    "customer.info()"
   ]
  },
  {
   "cell_type": "markdown",
   "metadata": {},
   "source": [
    "# Frequency Count for each Category"
   ]
  },
  {
   "cell_type": "code",
   "execution_count": 93,
   "metadata": {},
   "outputs": [],
   "source": [
    "# feature representing the count of each user\n",
    "def getCountVar(compute_df, count_df, var_name):\n",
    "    grouped_df = count_df.groupby(var_name)\n",
    "    count_dict = {}\n",
    "    for name, group in grouped_df:\n",
    "        count_dict[name] = group.shape[0]\n",
    "\n",
    "    count_list = []\n",
    "    for index, row in compute_df.iterrows():\n",
    "        name = row[var_name]\n",
    "        count_list.append(count_dict.get(name, 0))\n",
    "    return count_list\n",
    "\n"
   ]
  },
  {
   "cell_type": "code",
   "execution_count": 94,
   "metadata": {},
   "outputs": [],
   "source": [
    "customer['ID_Counts'] = getCountVar(customer, customer, 'User_ID')\n",
    "customer['Product_ID_Counts'] = getCountVar(customer, customer, 'Product_ID')\n",
    "customer['Age_Counts'] = getCountVar(customer, customer, 'Age')\n",
    "customer['Gender_Counts'] = getCountVar(customer, customer, 'Gender')\n",
    "customer['Occupation_Counts'] = getCountVar(customer, customer, 'Occupation')\n",
    "customer['City_Category_Counts'] = getCountVar(customer, customer, 'City_Category')\n",
    "customer['Stay_In_Current_City_Years_Counts'] = getCountVar(customer, customer, 'Stay_In_Current_City_Years')\n",
    "customer['Marital_Status_Years_Counts'] = getCountVar(customer, customer, 'Marital_Status')\n",
    "customer['Product_Category_1_Counts'] = getCountVar(customer, customer, 'Product_Category_1')"
   ]
  },
  {
   "cell_type": "markdown",
   "metadata": {},
   "source": [
    "## Polychotomization"
   ]
  },
  {
   "cell_type": "code",
   "execution_count": 95,
   "metadata": {},
   "outputs": [
    {
     "name": "stdout",
     "output_type": "stream",
     "text": [
      "<class 'pandas.core.frame.DataFrame'>\n",
      "CategoricalIndex: 537577 entries, 3 to 13\n",
      "Data columns (total 28 columns):\n",
      "User_ID                              537577 non-null category\n",
      "Product_ID                           537577 non-null category\n",
      "Gender                               537577 non-null category\n",
      "Age                                  537577 non-null category\n",
      "Occupation                           537577 non-null category\n",
      "City_Category                        537577 non-null category\n",
      "Stay_In_Current_City_Years           537577 non-null category\n",
      "Marital_Status                       537577 non-null category\n",
      "Product_Category_1                   537577 non-null category\n",
      "Purchase                             537577 non-null int64\n",
      "Avg_User_Purchase                    537577 non-null float64\n",
      "Avg_ProductID_Purchase               537577 non-null float64\n",
      "Avg_Gender_Purchase                  537577 non-null float64\n",
      "Avg_Age_Purchase                     537577 non-null float64\n",
      "Avg_Occupation_Purchase              537577 non-null float64\n",
      "Avg_City_Category_Purchase           537577 non-null float64\n",
      "Avg_Stay_Years_Purchase              537577 non-null float64\n",
      "Avg_Marital_Status_Purchase          537577 non-null float64\n",
      "Avg_Product_Category_1_Purchase      537577 non-null float64\n",
      "ID_Counts                            537577 non-null int64\n",
      "Product_ID_Counts                    537577 non-null int64\n",
      "Age_Counts                           537577 non-null int64\n",
      "Gender_Counts                        537577 non-null int64\n",
      "Occupation_Counts                    537577 non-null int64\n",
      "City_Category_Counts                 537577 non-null int64\n",
      "Stay_In_Current_City_Years_Counts    537577 non-null int64\n",
      "Marital_Status_Years_Counts          537577 non-null int64\n",
      "Product_Category_1_Counts            537577 non-null int64\n",
      "dtypes: category(9), float64(9), int64(10)\n",
      "memory usage: 84.5 MB\n",
      "None\n"
     ]
    }
   ],
   "source": [
    "# Setting all the categorical columns to type category\n",
    "for col in set(customer.columns) - set(customer.describe().columns):\n",
    "    customer[col] = customer[col].astype('category')\n",
    "    \n",
    "\n",
    "print(customer.info())"
   ]
  },
  {
   "cell_type": "code",
   "execution_count": 99,
   "metadata": {},
   "outputs": [
    {
     "data": {
      "text/plain": [
       "['Gender',\n",
       " 'Age',\n",
       " 'Occupation',\n",
       " 'City_Category',\n",
       " 'Stay_In_Current_City_Years',\n",
       " 'Marital_Status',\n",
       " 'Product_Category_1',\n",
       " 'Avg_User_Purchase',\n",
       " 'Avg_ProductID_Purchase',\n",
       " 'Avg_Gender_Purchase',\n",
       " 'Avg_Age_Purchase',\n",
       " 'Avg_Occupation_Purchase',\n",
       " 'Avg_City_Category_Purchase',\n",
       " 'Avg_Stay_Years_Purchase',\n",
       " 'Avg_Marital_Status_Purchase',\n",
       " 'Avg_Product_Category_1_Purchase',\n",
       " 'ID_Counts',\n",
       " 'Product_ID_Counts',\n",
       " 'Age_Counts',\n",
       " 'Gender_Counts',\n",
       " 'Occupation_Counts',\n",
       " 'City_Category_Counts',\n",
       " 'Stay_In_Current_City_Years_Counts',\n",
       " 'Marital_Status_Years_Counts',\n",
       " 'Product_Category_1_Counts']"
      ]
     },
     "execution_count": 99,
     "metadata": {},
     "output_type": "execute_result"
    }
   ],
   "source": [
    "features = list(customer.columns)\n",
    "features.remove('Purchase')\n",
    "features"
   ]
  },
  {
   "cell_type": "markdown",
   "metadata": {},
   "source": [
    "## Dropping User ID and Product ID"
   ]
  },
  {
   "cell_type": "code",
   "execution_count": 97,
   "metadata": {},
   "outputs": [],
   "source": [
    "customer = customer.drop(columns=['User_ID','Product_ID'], inplace=False, axis=1)"
   ]
  },
  {
   "cell_type": "code",
   "execution_count": 100,
   "metadata": {},
   "outputs": [],
   "source": [
    "customer.index = np.arange(len(customer))"
   ]
  },
  {
   "cell_type": "code",
   "execution_count": 101,
   "metadata": {},
   "outputs": [],
   "source": [
    "customer_polychot = pd.get_dummies(data=customer[features], drop_first=True)"
   ]
  },
  {
   "cell_type": "markdown",
   "metadata": {},
   "source": [
    "## Modeling"
   ]
  },
  {
   "cell_type": "code",
   "execution_count": 102,
   "metadata": {},
   "outputs": [],
   "source": [
    "x = customer_polychot.copy()\n",
    "y = customer_data['Purchase']"
   ]
  },
  {
   "cell_type": "code",
   "execution_count": 103,
   "metadata": {},
   "outputs": [],
   "source": [
    "## Adjusted R^2\n",
    "def AdjRsquare(model, x, y):\n",
    "    Rsquare = model.score(x, y)\n",
    "    NoData = len(y)\n",
    "    p = x.shape[1]\n",
    "    tempRsquare = 1 - (1-Rsquare)*(NoData - 1\n",
    "                                  )/(NoData - p - 1)\n",
    "    return tempRsquare"
   ]
  },
  {
   "cell_type": "code",
   "execution_count": 104,
   "metadata": {},
   "outputs": [],
   "source": [
    "## Combine all the steps to test the model performance\n",
    "def linRegcheckModelPerformance(x, y):\n",
    "    model = LinearRegression()\n",
    "    # Covert data into train and test\n",
    "    x_train, x_test, y_train, y_test = train_test_split(x, y, test_size=0.2,random_state = 666, shuffle= True)\n",
    "    # Build model with train data set\n",
    "    model.fit(x_train, y_train)\n",
    "    # Train accuracies\n",
    "    trainR2 = model.score(x_train, y_train)\n",
    "    predictedPurchaseTrain= model.predict(x_train)\n",
    "    TrainMse = metrics.mean_squared_error(y_train, predictedPurchaseTrain)\n",
    "    trainRmse = np.sqrt(TrainMse)\n",
    "    trainRmsePct = trainRmse/np.mean(np.mean(np.array(y_train)))*100\n",
    "    trainAdjR2 = AdjRsquare(model, x_train, y_train)\n",
    "    trainAccuracies = [trainRmse, trainRmsePct, trainR2, trainAdjR2]\n",
    "    # Test accuracies\n",
    "    testR2 = model.score(x_test, y_test)\n",
    "    predictedPurchaseTest = model.predict(x_test)\n",
    "    TestMse = metrics.mean_squared_error( y_test, predictedPurchaseTest)\n",
    "    testRmse = np.sqrt(TestMse)\n",
    "    testRmsePct = testRmse/np.mean(np.mean(np.array(y_test)))*100\n",
    "    testAdjR2 = AdjRsquare(model, x_test, y_test)\n",
    "    testAccuracies = [testRmse, testRmsePct, testR2, testAdjR2]\n",
    "    # Create dataframe for results\n",
    "    resultsDf = pd.DataFrame(index = [\"rmse\", \"rmsePct\", \"r2\", \"adjR2\"])\n",
    "    resultsDf['trainAccuracy'] = trainAccuracies\n",
    "    resultsDf['testAccuracy'] = testAccuracies\n",
    "    return ( round(resultsDf, 2))"
   ]
  },
  {
   "cell_type": "code",
   "execution_count": 105,
   "metadata": {},
   "outputs": [
    {
     "data": {
      "text/html": [
       "<div>\n",
       "<style scoped>\n",
       "    .dataframe tbody tr th:only-of-type {\n",
       "        vertical-align: middle;\n",
       "    }\n",
       "\n",
       "    .dataframe tbody tr th {\n",
       "        vertical-align: top;\n",
       "    }\n",
       "\n",
       "    .dataframe thead th {\n",
       "        text-align: right;\n",
       "    }\n",
       "</style>\n",
       "<table border=\"1\" class=\"dataframe\">\n",
       "  <thead>\n",
       "    <tr style=\"text-align: right;\">\n",
       "      <th></th>\n",
       "      <th>trainAccuracy</th>\n",
       "      <th>testAccuracy</th>\n",
       "    </tr>\n",
       "  </thead>\n",
       "  <tbody>\n",
       "    <tr>\n",
       "      <th>rmse</th>\n",
       "      <td>4979.67</td>\n",
       "      <td>4984.44</td>\n",
       "    </tr>\n",
       "    <tr>\n",
       "      <th>rmsePct</th>\n",
       "      <td>53.37</td>\n",
       "      <td>53.31</td>\n",
       "    </tr>\n",
       "    <tr>\n",
       "      <th>r2</th>\n",
       "      <td>0.00</td>\n",
       "      <td>-0.00</td>\n",
       "    </tr>\n",
       "    <tr>\n",
       "      <th>adjR2</th>\n",
       "      <td>0.00</td>\n",
       "      <td>-0.00</td>\n",
       "    </tr>\n",
       "  </tbody>\n",
       "</table>\n",
       "</div>"
      ],
      "text/plain": [
       "         trainAccuracy  testAccuracy\n",
       "rmse           4979.67       4984.44\n",
       "rmsePct          53.37         53.31\n",
       "r2                0.00         -0.00\n",
       "adjR2             0.00         -0.00"
      ]
     },
     "execution_count": 105,
     "metadata": {},
     "output_type": "execute_result"
    }
   ],
   "source": [
    "linRegcheckModelPerformance(x,y)"
   ]
  },
  {
   "cell_type": "code",
   "execution_count": 106,
   "metadata": {},
   "outputs": [],
   "source": []
  },
  {
   "cell_type": "code",
   "execution_count": null,
   "metadata": {},
   "outputs": [],
   "source": []
  }
 ],
 "metadata": {
  "kernelspec": {
   "display_name": "Python 3",
   "language": "python",
   "name": "python3"
  },
  "language_info": {
   "codemirror_mode": {
    "name": "ipython",
    "version": 3
   },
   "file_extension": ".py",
   "mimetype": "text/x-python",
   "name": "python",
   "nbconvert_exporter": "python",
   "pygments_lexer": "ipython3",
   "version": "3.6.5"
  }
 },
 "nbformat": 4,
 "nbformat_minor": 2
}
