{
 "cells": [
  {
   "cell_type": "code",
   "execution_count": 8,
   "metadata": {
    "scrolled": true
   },
   "outputs": [],
   "source": [
    "import pandas as pd\n",
    "import numpy as np\n",
    "import seaborn as sns\n",
    "import matplotlib.pyplot as plt\n",
    "sns.set(style=\"white\")\n",
    "%matplotlib inline"
   ]
  },
  {
   "cell_type": "code",
   "execution_count": 2,
   "metadata": {},
   "outputs": [],
   "source": [
    "customer_data = pd.read_csv('BlackFriday.csv')"
   ]
  },
  {
   "cell_type": "code",
   "execution_count": 3,
   "metadata": {},
   "outputs": [
    {
     "name": "stdout",
     "output_type": "stream",
     "text": [
      "<class 'pandas.core.frame.DataFrame'>\n",
      "RangeIndex: 537577 entries, 0 to 537576\n",
      "Data columns (total 12 columns):\n",
      "User_ID                       537577 non-null int64\n",
      "Product_ID                    537577 non-null object\n",
      "Gender                        537577 non-null object\n",
      "Age                           537577 non-null object\n",
      "Occupation                    537577 non-null int64\n",
      "City_Category                 537577 non-null object\n",
      "Stay_In_Current_City_Years    537577 non-null object\n",
      "Marital_Status                537577 non-null int64\n",
      "Product_Category_1            537577 non-null int64\n",
      "Product_Category_2            370591 non-null float64\n",
      "Product_Category_3            164278 non-null float64\n",
      "Purchase                      537577 non-null int64\n",
      "dtypes: float64(2), int64(5), object(5)\n",
      "memory usage: 49.2+ MB\n"
     ]
    }
   ],
   "source": [
    "customer_data.info()"
   ]
  },
  {
   "cell_type": "markdown",
   "metadata": {},
   "source": [
    "# Checking for Null Values"
   ]
  },
  {
   "cell_type": "code",
   "execution_count": 34,
   "metadata": {},
   "outputs": [
    {
     "data": {
      "text/plain": [
       "370591"
      ]
     },
     "execution_count": 34,
     "metadata": {},
     "output_type": "execute_result"
    }
   ],
   "source": [
    "cat_2 = customer_data['Product_Category_2'].value_counts().sum()\n",
    "cat_2"
   ]
  },
  {
   "cell_type": "code",
   "execution_count": 28,
   "metadata": {},
   "outputs": [
    {
     "data": {
      "text/plain": [
       "31.06271287648095"
      ]
     },
     "execution_count": 28,
     "metadata": {},
     "output_type": "execute_result"
    }
   ],
   "source": [
    "(len(customer_data) - cat_2)/len(customer_data)*100"
   ]
  },
  {
   "cell_type": "code",
   "execution_count": 29,
   "metadata": {},
   "outputs": [],
   "source": [
    "cat_3 = customer_data['Product_Category_3'].value_counts().sum()"
   ]
  },
  {
   "cell_type": "code",
   "execution_count": 30,
   "metadata": {},
   "outputs": [
    {
     "data": {
      "text/plain": [
       "69.44102891306734"
      ]
     },
     "execution_count": 30,
     "metadata": {},
     "output_type": "execute_result"
    }
   ],
   "source": [
    "(len(customer_data) - cat_3)/len(customer_data)*100"
   ]
  },
  {
   "cell_type": "markdown",
   "metadata": {},
   "source": [
    "#### Dropping Null Columns as they have more than 5% missing values."
   ]
  },
  {
   "cell_type": "code",
   "execution_count": 4,
   "metadata": {},
   "outputs": [],
   "source": [
    "customer_data = customer_data.drop(columns=['Product_Category_2', 'Product_Category_3'], axis=1)"
   ]
  },
  {
   "cell_type": "markdown",
   "metadata": {},
   "source": [
    "### Creating a Primary-Key based on 'User_ID' and 'Product_ID'"
   ]
  },
  {
   "cell_type": "code",
   "execution_count": 7,
   "metadata": {},
   "outputs": [
    {
     "data": {
      "text/plain": [
       "5891"
      ]
     },
     "execution_count": 7,
     "metadata": {},
     "output_type": "execute_result"
    }
   ],
   "source": [
    "customer_data.User_ID.nunique()"
   ]
  },
  {
   "cell_type": "code",
   "execution_count": 8,
   "metadata": {
    "scrolled": true
   },
   "outputs": [
    {
     "data": {
      "text/plain": [
       "3623"
      ]
     },
     "execution_count": 8,
     "metadata": {},
     "output_type": "execute_result"
    }
   ],
   "source": [
    "customer_data.Product_ID.nunique()"
   ]
  },
  {
   "cell_type": "code",
   "execution_count": 5,
   "metadata": {},
   "outputs": [],
   "source": [
    "user = customer_data['User_ID'].astype('str') "
   ]
  },
  {
   "cell_type": "code",
   "execution_count": 6,
   "metadata": {},
   "outputs": [],
   "source": [
    "product = customer_data['Product_ID'].astype('str')"
   ]
  },
  {
   "cell_type": "code",
   "execution_count": 7,
   "metadata": {},
   "outputs": [],
   "source": [
    "customer_data['Unique_ID'] = user +' ' + product"
   ]
  },
  {
   "cell_type": "code",
   "execution_count": 8,
   "metadata": {},
   "outputs": [],
   "source": [
    "# Dropping 'User_ID' and 'Product_ID' columns\n",
    "\n",
    "customer_data = customer_data.drop(columns=['User_ID', 'Product_ID'], axis=1)"
   ]
  },
  {
   "cell_type": "code",
   "execution_count": 9,
   "metadata": {
    "scrolled": true
   },
   "outputs": [
    {
     "data": {
      "text/html": [
       "<div>\n",
       "<style scoped>\n",
       "    .dataframe tbody tr th:only-of-type {\n",
       "        vertical-align: middle;\n",
       "    }\n",
       "\n",
       "    .dataframe tbody tr th {\n",
       "        vertical-align: top;\n",
       "    }\n",
       "\n",
       "    .dataframe thead th {\n",
       "        text-align: right;\n",
       "    }\n",
       "</style>\n",
       "<table border=\"1\" class=\"dataframe\">\n",
       "  <thead>\n",
       "    <tr style=\"text-align: right;\">\n",
       "      <th></th>\n",
       "      <th>Gender</th>\n",
       "      <th>Age</th>\n",
       "      <th>Occupation</th>\n",
       "      <th>City_Category</th>\n",
       "      <th>Stay_In_Current_City_Years</th>\n",
       "      <th>Marital_Status</th>\n",
       "      <th>Product_Category_1</th>\n",
       "      <th>Purchase</th>\n",
       "      <th>Unique_ID</th>\n",
       "    </tr>\n",
       "  </thead>\n",
       "  <tbody>\n",
       "    <tr>\n",
       "      <th>0</th>\n",
       "      <td>F</td>\n",
       "      <td>0-17</td>\n",
       "      <td>10</td>\n",
       "      <td>A</td>\n",
       "      <td>2</td>\n",
       "      <td>0</td>\n",
       "      <td>3</td>\n",
       "      <td>8370</td>\n",
       "      <td>1000001 P00069042</td>\n",
       "    </tr>\n",
       "    <tr>\n",
       "      <th>1</th>\n",
       "      <td>F</td>\n",
       "      <td>0-17</td>\n",
       "      <td>10</td>\n",
       "      <td>A</td>\n",
       "      <td>2</td>\n",
       "      <td>0</td>\n",
       "      <td>1</td>\n",
       "      <td>15200</td>\n",
       "      <td>1000001 P00248942</td>\n",
       "    </tr>\n",
       "    <tr>\n",
       "      <th>2</th>\n",
       "      <td>F</td>\n",
       "      <td>0-17</td>\n",
       "      <td>10</td>\n",
       "      <td>A</td>\n",
       "      <td>2</td>\n",
       "      <td>0</td>\n",
       "      <td>12</td>\n",
       "      <td>1422</td>\n",
       "      <td>1000001 P00087842</td>\n",
       "    </tr>\n",
       "    <tr>\n",
       "      <th>3</th>\n",
       "      <td>F</td>\n",
       "      <td>0-17</td>\n",
       "      <td>10</td>\n",
       "      <td>A</td>\n",
       "      <td>2</td>\n",
       "      <td>0</td>\n",
       "      <td>12</td>\n",
       "      <td>1057</td>\n",
       "      <td>1000001 P00085442</td>\n",
       "    </tr>\n",
       "    <tr>\n",
       "      <th>4</th>\n",
       "      <td>M</td>\n",
       "      <td>55+</td>\n",
       "      <td>16</td>\n",
       "      <td>C</td>\n",
       "      <td>4+</td>\n",
       "      <td>0</td>\n",
       "      <td>8</td>\n",
       "      <td>7969</td>\n",
       "      <td>1000002 P00285442</td>\n",
       "    </tr>\n",
       "  </tbody>\n",
       "</table>\n",
       "</div>"
      ],
      "text/plain": [
       "  Gender   Age  Occupation City_Category Stay_In_Current_City_Years  \\\n",
       "0      F  0-17          10             A                          2   \n",
       "1      F  0-17          10             A                          2   \n",
       "2      F  0-17          10             A                          2   \n",
       "3      F  0-17          10             A                          2   \n",
       "4      M   55+          16             C                         4+   \n",
       "\n",
       "   Marital_Status  Product_Category_1  Purchase          Unique_ID  \n",
       "0               0                   3      8370  1000001 P00069042  \n",
       "1               0                   1     15200  1000001 P00248942  \n",
       "2               0                  12      1422  1000001 P00087842  \n",
       "3               0                  12      1057  1000001 P00085442  \n",
       "4               0                   8      7969  1000002 P00285442  "
      ]
     },
     "execution_count": 9,
     "metadata": {},
     "output_type": "execute_result"
    }
   ],
   "source": [
    "customer_data.head()"
   ]
  },
  {
   "cell_type": "code",
   "execution_count": 17,
   "metadata": {
    "scrolled": true
   },
   "outputs": [
    {
     "data": {
      "text/html": [
       "<div>\n",
       "<style scoped>\n",
       "    .dataframe tbody tr th:only-of-type {\n",
       "        vertical-align: middle;\n",
       "    }\n",
       "\n",
       "    .dataframe tbody tr th {\n",
       "        vertical-align: top;\n",
       "    }\n",
       "\n",
       "    .dataframe thead th {\n",
       "        text-align: right;\n",
       "    }\n",
       "</style>\n",
       "<table border=\"1\" class=\"dataframe\">\n",
       "  <thead>\n",
       "    <tr style=\"text-align: right;\">\n",
       "      <th></th>\n",
       "      <th>count</th>\n",
       "      <th>mean</th>\n",
       "      <th>std</th>\n",
       "      <th>min</th>\n",
       "      <th>25%</th>\n",
       "      <th>50%</th>\n",
       "      <th>75%</th>\n",
       "      <th>max</th>\n",
       "    </tr>\n",
       "  </thead>\n",
       "  <tbody>\n",
       "    <tr>\n",
       "      <th>Occupation</th>\n",
       "      <td>537577.0</td>\n",
       "      <td>8.082710</td>\n",
       "      <td>6.524120</td>\n",
       "      <td>0.0</td>\n",
       "      <td>2.0</td>\n",
       "      <td>7.0</td>\n",
       "      <td>14.0</td>\n",
       "      <td>20.0</td>\n",
       "    </tr>\n",
       "    <tr>\n",
       "      <th>Marital_Status</th>\n",
       "      <td>537577.0</td>\n",
       "      <td>0.408797</td>\n",
       "      <td>0.491612</td>\n",
       "      <td>0.0</td>\n",
       "      <td>0.0</td>\n",
       "      <td>0.0</td>\n",
       "      <td>1.0</td>\n",
       "      <td>1.0</td>\n",
       "    </tr>\n",
       "    <tr>\n",
       "      <th>Product_Category_1</th>\n",
       "      <td>537577.0</td>\n",
       "      <td>5.295546</td>\n",
       "      <td>3.750701</td>\n",
       "      <td>1.0</td>\n",
       "      <td>1.0</td>\n",
       "      <td>5.0</td>\n",
       "      <td>8.0</td>\n",
       "      <td>18.0</td>\n",
       "    </tr>\n",
       "    <tr>\n",
       "      <th>Purchase</th>\n",
       "      <td>537577.0</td>\n",
       "      <td>9333.859853</td>\n",
       "      <td>4981.022133</td>\n",
       "      <td>185.0</td>\n",
       "      <td>5866.0</td>\n",
       "      <td>8062.0</td>\n",
       "      <td>12073.0</td>\n",
       "      <td>23961.0</td>\n",
       "    </tr>\n",
       "  </tbody>\n",
       "</table>\n",
       "</div>"
      ],
      "text/plain": [
       "                       count         mean          std    min     25%     50%  \\\n",
       "Occupation          537577.0     8.082710     6.524120    0.0     2.0     7.0   \n",
       "Marital_Status      537577.0     0.408797     0.491612    0.0     0.0     0.0   \n",
       "Product_Category_1  537577.0     5.295546     3.750701    1.0     1.0     5.0   \n",
       "Purchase            537577.0  9333.859853  4981.022133  185.0  5866.0  8062.0   \n",
       "\n",
       "                        75%      max  \n",
       "Occupation             14.0     20.0  \n",
       "Marital_Status          1.0      1.0  \n",
       "Product_Category_1      8.0     18.0  \n",
       "Purchase            12073.0  23961.0  "
      ]
     },
     "execution_count": 17,
     "metadata": {},
     "output_type": "execute_result"
    }
   ],
   "source": [
    "customer_data.describe().T"
   ]
  },
  {
   "cell_type": "markdown",
   "metadata": {},
   "source": [
    "#### Finding the range of Purchase"
   ]
  },
  {
   "cell_type": "code",
   "execution_count": 22,
   "metadata": {},
   "outputs": [
    {
     "name": "stdout",
     "output_type": "stream",
     "text": [
      "5866.0\n",
      "8062.0\n",
      "12073.0\n"
     ]
    }
   ],
   "source": [
    "print(customer_data.Purchase.quantile(q=0.25))\n",
    "print(customer_data.Purchase.quantile(q=0.5))\n",
    "print(customer_data.Purchase.quantile(q=0.75))"
   ]
  },
  {
   "cell_type": "code",
   "execution_count": 33,
   "metadata": {},
   "outputs": [
    {
     "data": {
      "text/plain": [
       "Index(['Gender', 'Age', 'Occupation', 'City_Category',\n",
       "       'Stay_In_Current_City_Years', 'Marital_Status', 'Product_Category_1',\n",
       "       'Purchase', 'Unique_ID'],\n",
       "      dtype='object')"
      ]
     },
     "execution_count": 33,
     "metadata": {},
     "output_type": "execute_result"
    }
   ],
   "source": [
    "customer_data.columns"
   ]
  },
  {
   "cell_type": "code",
   "execution_count": null,
   "metadata": {},
   "outputs": [],
   "source": []
  },
  {
   "cell_type": "code",
   "execution_count": null,
   "metadata": {},
   "outputs": [],
   "source": []
  },
  {
   "cell_type": "code",
   "execution_count": null,
   "metadata": {},
   "outputs": [],
   "source": []
  },
  {
   "cell_type": "code",
   "execution_count": 34,
   "metadata": {},
   "outputs": [],
   "source": [
    "pd.DataFrame(customer_data, columns= ['Gender', 'Age', 'Occupation', 'City_Category',\n",
    "       'Stay_In_Current_City_Years', 'Marital_Status', 'Product_Category_1',\n",
    "       'Purchase', 'Unique_ID']).to_csv('Customer_Data.csv')"
   ]
  },
  {
   "cell_type": "code",
   "execution_count": null,
   "metadata": {},
   "outputs": [],
   "source": []
  },
  {
   "cell_type": "markdown",
   "metadata": {},
   "source": [
    "### Re Enter the data"
   ]
  },
  {
   "cell_type": "code",
   "execution_count": 9,
   "metadata": {},
   "outputs": [],
   "source": [
    "customer_data = pd.read_csv('Customer_Data.csv')"
   ]
  },
  {
   "cell_type": "code",
   "execution_count": 10,
   "metadata": {},
   "outputs": [
    {
     "data": {
      "text/plain": [
       "<matplotlib.axes._subplots.AxesSubplot at 0x1f9c339c9b0>"
      ]
     },
     "execution_count": 10,
     "metadata": {},
     "output_type": "execute_result"
    },
    {
     "data": {
      "image/png": "[encoded data removed]",
      "text/plain": [
       "<Figure size 432x288 with 1 Axes>"
      ]
     },
     "metadata": {},
     "output_type": "display_data"
    }
   ],
   "source": [
    "sns.boxplot(x = customer_data['Purchase'], width=0.5)"
   ]
  },
  {
   "cell_type": "markdown",
   "metadata": {},
   "source": [
    "- Outliers exist in the Purchase Column"
   ]
  },
  {
   "cell_type": "code",
   "execution_count": 11,
   "metadata": {},
   "outputs": [
    {
     "name": "stdout",
     "output_type": "stream",
     "text": [
      "No of Outliers: 2665\n"
     ]
    }
   ],
   "source": [
    "#### Outliers\n",
    "\n",
    "customer_data.describe().T\n",
    "\n",
    "q3 = np.quantile(a=customer_data.Purchase, q=0.75)\n",
    "q1 = np.quantile(a=customer_data.Purchase, q=0.25)\n",
    "iqr = q3 - q1\n",
    "1.5*iqr\n",
    "\n",
    "print('No of Outliers:',len(customer_data['Purchase'][customer_data['Purchase'] > (q3 + (1.5*iqr))]))"
   ]
  },
  {
   "cell_type": "markdown",
   "metadata": {},
   "source": [
    "## Purchase Distribution"
   ]
  },
  {
   "cell_type": "code",
   "execution_count": 40,
   "metadata": {},
   "outputs": [
    {
     "name": "stderr",
     "output_type": "stream",
     "text": [
      "C:\\Users\\IQbal\\Anaconda3\\lib\\site-packages\\scipy\\stats\\stats.py:1713: FutureWarning: Using a non-tuple sequence for multidimensional indexing is deprecated; use `arr[tuple(seq)]` instead of `arr[seq]`. In the future this will be interpreted as an array index, `arr[np.array(seq)]`, which will result either in an error or a different result.\n",
      "  return np.add.reduce(sorted[indexer] * weights, axis=axis) / sumval\n",
      "C:\\Users\\IQbal\\Anaconda3\\lib\\site-packages\\matplotlib\\axes\\_axes.py:6462: UserWarning: The 'normed' kwarg is deprecated, and has been replaced by the 'density' kwarg.\n",
      "  warnings.warn(\"The 'normed' kwarg is deprecated, and has been \"\n"
     ]
    },
    {
     "data": {
      "text/plain": [
       "<matplotlib.axes._subplots.AxesSubplot at 0x1c9fd522748>"
      ]
     },
     "execution_count": 40,
     "metadata": {},
     "output_type": "execute_result"
    },
    {
     "data": {
      "image/png": "[encoded data removed]",
      "text/plain": [
       "<Figure size 432x288 with 1 Axes>"
      ]
     },
     "metadata": {},
     "output_type": "display_data"
    }
   ],
   "source": [
    "sns.distplot(customer_data['Purchase'])"
   ]
  },
  {
   "cell_type": "code",
   "execution_count": 11,
   "metadata": {},
   "outputs": [],
   "source": [
    "skewness = (3*(customer_data['Purchase'].mean() - customer_data['Purchase'].median()))/(customer_data['Purchase'].std())"
   ]
  },
  {
   "cell_type": "code",
   "execution_count": 13,
   "metadata": {},
   "outputs": [
    {
     "data": {
      "text/plain": [
       "0.7660234097113452"
      ]
     },
     "execution_count": 13,
     "metadata": {},
     "output_type": "execute_result"
    }
   ],
   "source": [
    "skewness\n",
    "\n",
    "## Since skewness is positive, Hence right skewed."
   ]
  },
  {
   "cell_type": "code",
   "execution_count": 12,
   "metadata": {},
   "outputs": [],
   "source": [
    "customer_data['sqrt'] = np.sqrt(customer_data['Purchase'])"
   ]
  },
  {
   "cell_type": "code",
   "execution_count": 13,
   "metadata": {},
   "outputs": [],
   "source": [
    "customer_data['invSqrt'] = 1/ (np.sqrt(customer_data['Purchase']))"
   ]
  },
  {
   "cell_type": "code",
   "execution_count": 14,
   "metadata": {},
   "outputs": [],
   "source": [
    "customer_data['log'] = np.log(customer_data['Purchase'])"
   ]
  },
  {
   "cell_type": "code",
   "execution_count": 15,
   "metadata": {},
   "outputs": [],
   "source": [
    "skew_sqrt = (3*(customer_data['sqrt'].mean() - customer_data['sqrt'].median()))/(customer_data['sqrt'].std())"
   ]
  },
  {
   "cell_type": "code",
   "execution_count": 16,
   "metadata": {},
   "outputs": [],
   "source": [
    "skew_inv = (3*(customer_data['invSqrt'].mean() - customer_data['invSqrt'].median()))/(customer_data['invSqrt'].std())"
   ]
  },
  {
   "cell_type": "code",
   "execution_count": 17,
   "metadata": {},
   "outputs": [],
   "source": [
    "skew_log = (3*(customer_data['log'].mean() - customer_data['log'].median()))/(customer_data['log'].std())"
   ]
  },
  {
   "cell_type": "code",
   "execution_count": 18,
   "metadata": {},
   "outputs": [
    {
     "name": "stdout",
     "output_type": "stream",
     "text": [
      "0.35657075653136916 \n",
      " 0.5030804714946393 \n",
      " -0.11491516838990029\n"
     ]
    }
   ],
   "source": [
    "print(skew_sqrt,'\\n',skew_inv,'\\n', skew_log)"
   ]
  },
  {
   "cell_type": "code",
   "execution_count": 19,
   "metadata": {},
   "outputs": [],
   "source": [
    "from scipy import stats"
   ]
  },
  {
   "cell_type": "code",
   "execution_count": 20,
   "metadata": {},
   "outputs": [],
   "source": [
    "x1 = customer_data['sqrt']"
   ]
  },
  {
   "cell_type": "code",
   "execution_count": 21,
   "metadata": {},
   "outputs": [
    {
     "data": {
      "image/png": "[encoded data removed]",
      "text/plain": [
       "<Figure size 432x288 with 1 Axes>"
      ]
     },
     "metadata": {},
     "output_type": "display_data"
    }
   ],
   "source": [
    "res = stats.probplot(x=x1, plot= plt)"
   ]
  },
  {
   "cell_type": "code",
   "execution_count": 26,
   "metadata": {},
   "outputs": [
    {
     "data": {
      "image/png": "[encoded data removed]",
      "text/plain": [
       "<Figure size 432x288 with 1 Axes>"
      ]
     },
     "metadata": {},
     "output_type": "display_data"
    }
   ],
   "source": [
    "x2 = customer_data['invSqrt']\n",
    "\n",
    "res2 = stats.probplot(x=x2, plot=plt)"
   ]
  },
  {
   "cell_type": "code",
   "execution_count": 22,
   "metadata": {},
   "outputs": [
    {
     "data": {
      "image/png": "[encoded data removed]",
      "text/plain": [
       "<Figure size 432x288 with 1 Axes>"
      ]
     },
     "metadata": {},
     "output_type": "display_data"
    }
   ],
   "source": [
    "x3 = customer_data['log'] \n",
    "\n",
    "res3 = stats.probplot(x=x3, plot=plt)"
   ]
  },
  {
   "cell_type": "markdown",
   "metadata": {},
   "source": [
    "#### Observation:\n",
    "- The 'sqrt' transformation seems to be the best."
   ]
  },
  {
   "cell_type": "markdown",
   "metadata": {},
   "source": [
    "## ANOVA of Purchase based on Product Category"
   ]
  },
  {
   "cell_type": "code",
   "execution_count": 30,
   "metadata": {},
   "outputs": [],
   "source": [
    "import statsmodels.api as sm\n",
    "from statsmodels.formula.api import ols\n",
    "from statsmodels.stats.anova import anova_lm\n",
    "from statsmodels.stats.multicomp import pairwise_tukeyhsd, MultiComparison"
   ]
  },
  {
   "cell_type": "code",
   "execution_count": 24,
   "metadata": {},
   "outputs": [],
   "source": [
    "modeled = ols(formula= 'Purchase ~ C(Product_Category_1)', data=customer_data).fit()\n",
    "\n",
    "aov_table = anova_lm(modeled, type = 2)\n",
    "print(aov_table)"
   ]
  },
  {
   "cell_type": "code",
   "execution_count": 29,
   "metadata": {},
   "outputs": [
    {
     "name": "stdout",
     "output_type": "stream",
     "text": [
      "The means are not equal, apply TUKEY-KRAMER's Test\n"
     ]
    }
   ],
   "source": [
    "if aov_table['PR(>F)'][0] <0.05:\n",
    "    print(\"The means are not equal, apply TUKEY-KRAMER's Test\")\n",
    "else:\n",
    "    print(\"The means are equal\")"
   ]
  },
  {
   "cell_type": "code",
   "execution_count": 31,
   "metadata": {},
   "outputs": [],
   "source": [
    "mc = MultiComparison(customer_data.Purchase, customer_data.Product_Category_1)"
   ]
  },
  {
   "cell_type": "code",
   "execution_count": 32,
   "metadata": {},
   "outputs": [
    {
     "name": "stdout",
     "output_type": "stream",
     "text": [
      "   Multiple Comparison of Means - Tukey HSD,FWER=0.05   \n",
      "========================================================\n",
      "group1 group2   meandiff     lower       upper    reject\n",
      "--------------------------------------------------------\n",
      "  1      2     -2352.0207  -2426.8586  -2277.1829  True \n",
      "  1      3     -3510.8598  -3591.3649  -3430.3546  True \n",
      "  1      4    -11278.8386 -11381.4998 -11176.1774  True \n",
      "  1      5     -7369.6975  -7409.3242  -7330.0707  True \n",
      "  1      6     2230.1921   2150.2388   2310.1454   True \n",
      "  1      7     2766.1287   2588.6899   2943.5674   True \n",
      "  1      8     -6110.3466  -6152.9666  -6067.7267  True \n",
      "  1      9     1930.5955   1402.1214   2459.0696   True \n",
      "  1      10    6072.2729    5920.054   6224.4917   True \n",
      "  1      11    -8924.7679  -8998.9878  -8850.5481  True \n",
      "  1      12   -12256.5059 -12429.2661 -12083.7457  True \n",
      "  1      13    -12885.082 -13031.6896 -12738.4744  True \n",
      "  1      14    -462.2495   -737.5945   -186.9045   True \n",
      "  1      15    1168.7207   1031.0619   1306.3796   True \n",
      "  1      16     1156.456   1045.0336   1267.8784   True \n",
      "  1      17    -3451.2606  -3897.6129  -3004.9082  True \n",
      "  1      18   -10632.3939  -10825.783 -10439.0047  True \n",
      "  2      3     -1158.839   -1261.091   -1056.5871  True \n",
      "  2      4     -8926.8179  -9047.2907  -8806.345   True \n",
      "  2      5     -5017.6767  -5092.1393  -4943.2142  True \n",
      "  2      6     4582.2128   4480.3947   4684.0309   True \n",
      "  2      7     5118.1494    4929.844   5306.4548   True \n",
      "  2      8     -3758.3259  -3834.4236  -3682.2283  True \n",
      "  2      9     4282.6163   3750.3952   4814.8374   True \n",
      "  2      10    8424.2936   8259.5363   8589.0509   True \n",
      "  2      11    -6572.7472  -6670.1278  -6475.3666  True \n",
      "  2      12    -9904.4851 -10088.3886  -9720.5817  True \n",
      "  2      13   -10533.0613 -10692.6488 -10373.4738  True \n",
      "  2      14    1889.7712   1607.3013   2172.2412   True \n",
      "  2      15    3520.7415   3369.3336   3672.1494   True \n",
      "  2      16    3508.4767   3380.4559   3636.4976   True \n",
      "  2      17    -1099.2398  -1550.0223  -648.4574   True \n",
      "  2      18    -8280.3731  -8483.7785  -8076.9677  True \n",
      "  3      4     -7767.9788  -7892.0517  -7643.9059  True \n",
      "  3      5     -3858.8377  -3938.994   -3778.6813  True \n",
      "  3      6     5741.0519   5634.9986   5847.1052   True \n",
      "  3      7     6276.9884   6086.3598   6467.6171   True \n",
      "  3      8     -2599.4869  -2681.1644  -2517.8093  True \n",
      "  3      9     5441.4553   4908.4078   5974.5028   True \n",
      "  3      10    9583.1327   9415.7249   9750.5404   True \n",
      "  3      11    -5413.9081  -5515.7087  -5312.1076  True \n",
      "  3      12    -8745.6461  -8931.9277  -8559.3645  True \n",
      "  3      13    -9374.2222  -9536.5446  -9211.8999  True \n",
      "  3      14    3048.6103   2764.5863   3332.6343   True \n",
      "  3      15    4679.5805   4525.2927   4833.8683   True \n",
      "  3      16    4667.3158   4535.9015   4798.7301   True \n",
      "  3      17     59.5992    -392.1587    511.3571  False \n",
      "  3      18    -7121.5341  -7327.0921  -6915.976   True \n",
      "  4      5     3909.1412   3806.7532   4011.5291   True \n",
      "  4      6     13509.0307  13385.3151  13632.7463  True \n",
      "  4      7     14044.9673  13843.9759  14245.9586  True \n",
      "  4      8      5168.492   5064.9088   5272.0751   True \n",
      "  4      9     13209.4341  12672.5935  13746.2748  True \n",
      "  4      10    17351.1115  17171.9925  17530.2304  True \n",
      "  4      11    2354.0707   2233.9807   2474.1606   True \n",
      "  4      12    -977.6673   -1174.5406   -780.794   True \n",
      "  4      13    -1606.2434  -1780.6188  -1431.868   True \n",
      "  4      14    10816.5891  10525.5086  11107.6697  True \n",
      "  4      15    12447.5593  12280.6373  12614.4814  True \n",
      "  4      16    12435.2946  12289.2536  12581.3355  True \n",
      "  4      17     7827.578   7371.3507   8283.8054   True \n",
      "  4      18     646.4448    431.2417    861.6479   True \n",
      "  5      6     9599.8895   9520.2874   9679.4917   True \n",
      "  5      7     10135.8261  9958.5453   10313.1069  True \n",
      "  5      8     1259.3508   1217.3933   1301.3083   True \n",
      "  5      9      9300.293   8771.8719   9828.7141   True \n",
      "  5      10    13441.9703  13289.9356  13594.005   True \n",
      "  5      11    -1555.0705  -1628.9119  -1481.2291  True \n",
      "  5      12    -4886.8084  -5059.4064  -4714.2105  True \n",
      "  5      13    -5515.3846  -5661.8009  -5368.9682  True \n",
      "  5      14     6907.448   6632.2047   7182.6912   True \n",
      "  5      15    8538.4182    8400.963   8675.8733   True \n",
      "  5      16    8526.1534   8414.9828   8637.3241   True \n",
      "  5      17    3918.4369   3472.1473   4364.7264   True \n",
      "  5      18    -3262.6964  -3455.9406  -3069.4522  True \n",
      "  6      7      535.9366    345.5403    726.3329   True \n",
      "  6      8     -8340.5387  -8421.6725  -8259.405   True \n",
      "  6      9     -299.5965    -832.561    233.3679  False \n",
      "  6      10    3842.0808   3674.9377   4009.2239   True \n",
      "  6      11    -11154.96  -11256.3248 -11053.5953  True \n",
      "  6      12    -14486.698 -14672.7418 -14300.6541  True \n",
      "  6      13   -15115.2741 -15277.3235 -14953.2247  True \n",
      "  6      14    -2692.4416  -2976.3097  -2408.5735  True \n",
      "  6      15    -1061.4714  -1215.4719  -907.4708   True \n",
      "  6      16    -1073.7361  -1204.8131  -942.6591   True \n",
      "  6      17    -5681.4527  -6133.1125  -5229.7928  True \n",
      "  6      18   -12862.5859 -13067.9285 -12657.2433  True \n",
      "  7      8     -8876.4753  -9054.4491  -8698.5015  True \n",
      "  7      9     -835.5331   -1391.5395  -279.5267   True \n",
      "  7      10    3306.1442   3075.8644    3536.424   True \n",
      "  7      11   -11690.8966 -11878.9572  -11502.836  True \n",
      "  7      12   -15022.6345 -15266.9792 -14778.2899  True \n",
      "  7      13   -15651.2107 -15877.8204 -15424.6009  True \n",
      "  7      14    -3228.3782  -3553.4521  -2903.3042  True \n",
      "  7      15    -1597.4079  -1818.3336  -1376.4822  True \n",
      "  7      16    -1609.6727  -1815.2771  -1404.0683  True \n",
      "  7      17    -6217.3892  -6696.0213  -5738.7572  True \n",
      "  7      18   -13398.5225 -13657.8632 -13139.1819  True \n",
      "  8      9     8040.9422   7512.2882   8569.5962   True \n",
      "  8      10    12182.6195  12029.7773  12335.4617  True \n",
      "  8      11    -2814.4213  -2889.9113  -2738.9313  True \n",
      "  8      12    -6146.1592  -6319.4689  -5972.8496  True \n",
      "  8      13    -6774.7354   -6921.99   -6627.4807  True \n",
      "  8      14    5648.0972   5372.4071   5923.7872   True \n",
      "  8      15    7279.0674   7140.7196   7417.4151   True \n",
      "  8      16    7266.8026   7154.5302    7379.075   True \n",
      "  8      17    2659.0861   2212.5208   3105.6514   True \n",
      "  8      18    -4522.0472  -4715.9273  -4328.1671  True \n",
      "  9      10    4141.6773   3593.1984   4690.1563   True \n",
      "  9      11   -10855.3635  -11387.498 -10323.2289  True \n",
      "  9      12   -14187.1014 -14741.6324 -13632.5704  True \n",
      "  9      13   -14815.6775 -15362.6258 -14268.7293  True \n",
      "  9      14    -2392.845   -2987.3814  -1798.3087  True \n",
      "  9      15    -761.8748   -1306.4926   -217.257   True \n",
      "  9      16    -774.1396   -1312.7243  -235.5548   True \n",
      "  9      17    -5381.8561  -6072.4276  -4691.2846  True \n",
      "  9      18   -12562.9894 -13124.2896 -12001.6892  True \n",
      "  10     11   -14997.0408 -15161.5183 -14832.5633  True \n",
      "  10     12   -18328.7788 -18555.4732 -18102.0843  True \n",
      "  10     13   -18957.3549  -19164.811 -18749.8987  True \n",
      "  10     14    -6534.5224  -6846.5466  -6222.4981  True \n",
      "  10     15    -4903.5521  -5104.7839  -4702.3204  True \n",
      "  10     16    -4915.8169  -5100.0972  -4731.5366  True \n",
      "  10     17    -9523.5334  -9993.4001  -9053.6668  True \n",
      "  10     18   -16704.6667 -16947.4498 -16461.8836  True \n",
      "  11     12    -3331.7379  -3515.3908  -3148.0851  True \n",
      "  11     13    -3960.3141  -4119.6127  -3801.0154  True \n",
      "  11     14    8462.5184   8180.2116   8744.8253   True \n",
      "  11     15    10093.4887  9942.3853   10244.592   True \n",
      "  11     16    10081.2239  9953.5633   10208.8845  True \n",
      "  11     17    5473.5074   5022.8271   5924.1876   True \n",
      "  11     18    -1707.6259  -1910.8047  -1504.4471  True \n",
      "  12     13    -628.5761   -851.5415   -405.6108   True \n",
      "  12     14    11794.2564  11471.7124  12116.8004  True \n",
      "  12     15    13425.2266  13208.0407  13642.4125  True \n",
      "  12     16    13412.9619  13211.3813  13614.5424  True \n",
      "  12     17    8805.2453   8328.3279   9282.1627   True \n",
      "  12     18     1624.112   1367.9497   1880.2743   True \n",
      "  13     14    12422.8325  12113.5069  12732.1581  True \n",
      "  13     15    14053.8027  13856.7814  14250.8241  True \n",
      "  13     16    14041.538   13861.8649  14221.2111  True \n",
      "  13     17    9433.8214   8965.7425   9901.9003   True \n",
      "  13     18    2252.6882   2013.3833    2491.993   True \n",
      "  14     15    1630.9702   1325.7842   1936.1563   True \n",
      "  14     16    1618.7055   1324.4207   1912.9902   True \n",
      "  14     17    -2989.0111  -3511.9059  -2466.1163  True \n",
      "  14     18   -10170.1444 -10504.1921  -9836.0966  True \n",
      "  15     16     -12.2647   -184.7136    160.1841  False \n",
      "  15     17    -4619.9813  -5085.335   -4154.6276  True \n",
      "  15     18   -11801.1146 -12035.0441 -11567.1851  True \n",
      "  16     17    -4607.7166  -5065.9949  -4149.4382  True \n",
      "  16     18   -11788.8498 -12008.3675 -11569.3322  True \n",
      "  17     18    -7181.1333  -7665.9048  -6696.3617  True \n",
      "--------------------------------------------------------\n"
     ]
    }
   ],
   "source": [
    "result = mc.tukeyhsd()\n",
    "print(result)"
   ]
  },
  {
   "cell_type": "code",
   "execution_count": 33,
   "metadata": {},
   "outputs": [
    {
     "data": {
      "text/html": [
       "<div>\n",
       "<style scoped>\n",
       "    .dataframe tbody tr th:only-of-type {\n",
       "        vertical-align: middle;\n",
       "    }\n",
       "\n",
       "    .dataframe tbody tr th {\n",
       "        vertical-align: top;\n",
       "    }\n",
       "\n",
       "    .dataframe thead th {\n",
       "        text-align: right;\n",
       "    }\n",
       "</style>\n",
       "<table border=\"1\" class=\"dataframe\">\n",
       "  <thead>\n",
       "    <tr style=\"text-align: right;\">\n",
       "      <th></th>\n",
       "      <th>count</th>\n",
       "      <th>mean</th>\n",
       "      <th>std</th>\n",
       "      <th>min</th>\n",
       "      <th>25%</th>\n",
       "      <th>50%</th>\n",
       "      <th>75%</th>\n",
       "      <th>max</th>\n",
       "    </tr>\n",
       "  </thead>\n",
       "  <tbody>\n",
       "    <tr>\n",
       "      <th>Unnamed: 0</th>\n",
       "      <td>537577.0</td>\n",
       "      <td>268788.000000</td>\n",
       "      <td>155185.257167</td>\n",
       "      <td>0.000000</td>\n",
       "      <td>134394.000000</td>\n",
       "      <td>268788.000000</td>\n",
       "      <td>403182.000000</td>\n",
       "      <td>537576.000000</td>\n",
       "    </tr>\n",
       "    <tr>\n",
       "      <th>Occupation</th>\n",
       "      <td>537577.0</td>\n",
       "      <td>8.082710</td>\n",
       "      <td>6.524120</td>\n",
       "      <td>0.000000</td>\n",
       "      <td>2.000000</td>\n",
       "      <td>7.000000</td>\n",
       "      <td>14.000000</td>\n",
       "      <td>20.000000</td>\n",
       "    </tr>\n",
       "    <tr>\n",
       "      <th>Marital_Status</th>\n",
       "      <td>537577.0</td>\n",
       "      <td>0.408797</td>\n",
       "      <td>0.491612</td>\n",
       "      <td>0.000000</td>\n",
       "      <td>0.000000</td>\n",
       "      <td>0.000000</td>\n",
       "      <td>1.000000</td>\n",
       "      <td>1.000000</td>\n",
       "    </tr>\n",
       "    <tr>\n",
       "      <th>Product_Category_1</th>\n",
       "      <td>537577.0</td>\n",
       "      <td>5.295546</td>\n",
       "      <td>3.750701</td>\n",
       "      <td>1.000000</td>\n",
       "      <td>1.000000</td>\n",
       "      <td>5.000000</td>\n",
       "      <td>8.000000</td>\n",
       "      <td>18.000000</td>\n",
       "    </tr>\n",
       "    <tr>\n",
       "      <th>Purchase</th>\n",
       "      <td>537577.0</td>\n",
       "      <td>9333.859853</td>\n",
       "      <td>4981.022133</td>\n",
       "      <td>185.000000</td>\n",
       "      <td>5866.000000</td>\n",
       "      <td>8062.000000</td>\n",
       "      <td>12073.000000</td>\n",
       "      <td>23961.000000</td>\n",
       "    </tr>\n",
       "    <tr>\n",
       "      <th>sqrt</th>\n",
       "      <td>537577.0</td>\n",
       "      <td>92.928960</td>\n",
       "      <td>26.421006</td>\n",
       "      <td>13.601471</td>\n",
       "      <td>76.589817</td>\n",
       "      <td>89.788641</td>\n",
       "      <td>109.877204</td>\n",
       "      <td>154.793411</td>\n",
       "    </tr>\n",
       "    <tr>\n",
       "      <th>invSqrt</th>\n",
       "      <td>537577.0</td>\n",
       "      <td>0.011960</td>\n",
       "      <td>0.004903</td>\n",
       "      <td>0.006460</td>\n",
       "      <td>0.009101</td>\n",
       "      <td>0.011137</td>\n",
       "      <td>0.013057</td>\n",
       "      <td>0.073521</td>\n",
       "    </tr>\n",
       "    <tr>\n",
       "      <th>log</th>\n",
       "      <td>537577.0</td>\n",
       "      <td>8.970239</td>\n",
       "      <td>0.644240</td>\n",
       "      <td>5.220356</td>\n",
       "      <td>8.676928</td>\n",
       "      <td>8.994917</td>\n",
       "      <td>9.398727</td>\n",
       "      <td>10.084183</td>\n",
       "    </tr>\n",
       "  </tbody>\n",
       "</table>\n",
       "</div>"
      ],
      "text/plain": [
       "                       count           mean            std         min  \\\n",
       "Unnamed: 0          537577.0  268788.000000  155185.257167    0.000000   \n",
       "Occupation          537577.0       8.082710       6.524120    0.000000   \n",
       "Marital_Status      537577.0       0.408797       0.491612    0.000000   \n",
       "Product_Category_1  537577.0       5.295546       3.750701    1.000000   \n",
       "Purchase            537577.0    9333.859853    4981.022133  185.000000   \n",
       "sqrt                537577.0      92.928960      26.421006   13.601471   \n",
       "invSqrt             537577.0       0.011960       0.004903    0.006460   \n",
       "log                 537577.0       8.970239       0.644240    5.220356   \n",
       "\n",
       "                              25%            50%            75%            max  \n",
       "Unnamed: 0          134394.000000  268788.000000  403182.000000  537576.000000  \n",
       "Occupation               2.000000       7.000000      14.000000      20.000000  \n",
       "Marital_Status           0.000000       0.000000       1.000000       1.000000  \n",
       "Product_Category_1       1.000000       5.000000       8.000000      18.000000  \n",
       "Purchase              5866.000000    8062.000000   12073.000000   23961.000000  \n",
       "sqrt                    76.589817      89.788641     109.877204     154.793411  \n",
       "invSqrt                  0.009101       0.011137       0.013057       0.073521  \n",
       "log                      8.676928       8.994917       9.398727      10.084183  "
      ]
     },
     "execution_count": 33,
     "metadata": {},
     "output_type": "execute_result"
    }
   ],
   "source": [
    "customer_data.describe().T"
   ]
  },
  {
   "cell_type": "code",
   "execution_count": null,
   "metadata": {},
   "outputs": [],
   "source": []
  },
  {
   "cell_type": "code",
   "execution_count": 34,
   "metadata": {},
   "outputs": [
    {
     "name": "stdout",
     "output_type": "stream",
     "text": [
      "                     df        sum_sq       mean_sq           F  PR(>F)\n",
      "C(Occupation)      20.0  5.088787e+10  2.544393e+09  102.941701     0.0\n",
      "Residual       537556.0  1.328669e+13  2.471684e+07         NaN     NaN\n"
     ]
    }
   ],
   "source": [
    "modeled2 = ols(formula= 'Purchase ~ C(Occupation)', data=customer_data).fit()\n",
    "\n",
    "aov_table = anova_lm(modeled2, type = 2)\n",
    "print(aov_table)"
   ]
  },
  {
   "cell_type": "code",
   "execution_count": 35,
   "metadata": {},
   "outputs": [
    {
     "name": "stdout",
     "output_type": "stream",
     "text": [
      "The means are not equal, apply TUKEY-KRAMER's Test\n"
     ]
    }
   ],
   "source": [
    "if aov_table['PR(>F)'][0] <0.05:\n",
    "    print(\"The means are not equal, apply TUKEY-KRAMER's Test\")\n",
    "else:\n",
    "    print(\"The means are equal\")"
   ]
  },
  {
   "cell_type": "code",
   "execution_count": 38,
   "metadata": {},
   "outputs": [
    {
     "name": "stdout",
     "output_type": "stream",
     "text": [
      " Multiple Comparison of Means - Tukey HSD,FWER=0.01 \n",
      "====================================================\n",
      "group1 group2  meandiff    lower      upper   reject\n",
      "----------------------------------------------------\n",
      "  0      1    -169.2436  -289.7272   -48.7601  True \n",
      "  0      2    -161.0077  -306.8351   -15.1804  True \n",
      "  0      3     51.1306   -118.5538   220.8149 False \n",
      "  0      4      92.08     -15.0267   199.1867 False \n",
      "  0      5     201.9023    4.1803    399.6242  True \n",
      "  0      6     149.4319   -11.6581   310.5219 False \n",
      "  0      7     315.2285   202.349    428.1081  True \n",
      "  0      8     389.5618  -127.4417   906.5653 False \n",
      "  0      9    -472.6108  -738.3258  -206.8958  True \n",
      "  0      10   -134.1103  -327.5365   59.3159  False \n",
      "  0      11    112.5205   -89.9421   314.983  False \n",
      "  0      12    696.1057   558.4621   833.7493  True \n",
      "  0      13    237.5027   -4.6472    479.6526 False \n",
      "  0      14    381.5897   237.4882   525.6912  True \n",
      "  0      15    679.2932   480.3438   878.2426  True \n",
      "  0      16    270.1864   122.1266   418.2462  True \n",
      "  0      17    719.4323   592.7754   846.0892  True \n",
      "  0      18    46.7247   -211.9502   305.3995 False \n",
      "  0      19   -432.6976  -664.1171   -201.278  True \n",
      "  0      20   -305.8472  -439.8474   -171.847  True \n",
      "  1      2      8.2359   -146.9534   163.4252 False \n",
      "  1      3     220.3742   42.5797    398.1687  True \n",
      "  1      4     261.3236   141.783    380.8643  True \n",
      "  1      5     371.1459   166.4215   575.8703  True \n",
      "  1      6     318.6755   149.0639   488.2871  True \n",
      "  1      7     484.4722   359.7328   609.2116  True \n",
      "  1      8     558.8054   39.0837   1078.5272  True \n",
      "  1      9    -303.3672  -574.3332   -32.4011  True \n",
      "  1      10    35.1333   -165.4453   235.712  False \n",
      "  1      11    281.7641   72.4576    491.0706  True \n",
      "  1      12    865.3494   717.8235  1012.8752  True \n",
      "  1      13    406.7463   158.8457   654.6469  True \n",
      "  1      14    550.8333   397.2646   704.402   True \n",
      "  1      15    848.5368   642.6267   1054.447  True \n",
      "  1      16     439.43    282.1411   596.719   True \n",
      "  1      17    888.6759   751.3439  1026.0079  True \n",
      "  1      18    215.9683   -48.0976   480.0342 False \n",
      "  1      19   -263.4539  -500.8842   -26.0237  True \n",
      "  1      20   -136.6036   -280.736    7.5289  False \n",
      "  2      3     212.1383   16.2807    407.9959  True \n",
      "  2      4     253.0878   108.0385   398.137   True \n",
      "  2      5      362.91    142.3167   583.5033  True \n",
      "  2      6     310.4396   121.979    498.9003  True \n",
      "  2      7     476.2363   326.8736   625.599   True \n",
      "  2      8     550.5695   24.3946   1076.7445  True \n",
      "  2      9     -311.603  -594.7495   -28.4566  True \n",
      "  2      10    26.8974   -189.8539   243.6487 False \n",
      "  2      11    273.5282    48.676    498.3804  True \n",
      "  2      12    857.1135   688.255    1025.972  True \n",
      "  2      13    398.5104   137.3514   659.6694  True \n",
      "  2      14    542.5974   368.4347   716.7602  True \n",
      "  2      15    840.3009   618.6068  1061.9951  True \n",
      "  2      16    431.1941   253.7424   608.6459  True \n",
      "  2      17     880.44    720.4106  1040.4694  True \n",
      "  2      18    207.7324   -68.8179   484.2828 False \n",
      "  2      19   -271.6898  -522.9316   -20.448   True \n",
      "  2      20   -144.8395  -310.7415   21.0625  False \n",
      "  3      4     40.9495   -128.0666   209.9656 False \n",
      "  3      5     150.7717   -86.2696   387.813  False \n",
      "  3      6     98.3013   -109.1705   305.7732 False \n",
      "  3      7     264.098    91.3659    436.8301  True \n",
      "  3      8     338.4313  -194.8484   871.7109 False \n",
      "  3      9    -523.7413  -819.8816  -227.6011  True \n",
      "  3      10   -185.2409  -418.7109   48.2292  False \n",
      "  3      11    61.3899   -179.6198   302.3996 False \n",
      "  3      12    644.9752   455.1322   834.8181  True \n",
      "  3      13    186.3721   -88.8208   461.5651 False \n",
      "  3      14    330.4591   135.8832   525.0351  True \n",
      "  3      15    628.1626   390.0965   866.2288  True \n",
      "  3      16    219.0558   21.5304    416.5812  True \n",
      "  3      17    668.3017   486.2672   850.3362  True \n",
      "  3      18    -4.4059   -294.2459   285.4342 False \n",
      "  3      19   -483.8281  -749.6281  -218.0282  True \n",
      "  3      20   -356.9778  -544.1959  -169.7596  True \n",
      "  4      5     109.8222   -87.3265   306.971  False \n",
      "  4      6     57.3519   -103.0341   217.7378 False \n",
      "  4      7     223.1485   111.276    335.0211  True \n",
      "  4      8     297.4818  -219.3028   814.2663 False \n",
      "  4      9    -564.6908  -829.9796   -299.402  True \n",
      "  4      10   -226.1903  -419.0306   -33.3501  True \n",
      "  4      11    20.4404   -181.4624   222.3433 False \n",
      "  4      12    604.0257   467.2068   740.8447  True \n",
      "  4      13    145.4226   -96.2595   387.1048 False \n",
      "  4      14    289.5097   146.1957   432.8237  True \n",
      "  4      15    587.2132   388.8334   785.593   True \n",
      "  4      16    178.1064   30.8129    325.3998  True \n",
      "  4      17    627.3523   501.592    753.1125  True \n",
      "  4      18    -45.3553  -303.5923   212.8817 False \n",
      "  4      19   -524.7776  -755.7076  -293.8475  True \n",
      "  4      20   -397.9272  -531.0802  -264.7743  True \n",
      "  5      6     -52.4704  -283.4374   178.4967 False \n",
      "  5      7     113.3263   -87.0174    313.67  False \n",
      "  5      8     187.6596  -355.1926   730.5117 False \n",
      "  5      9     -674.513   -987.563  -361.4631  True \n",
      "  5      10   -336.0126  -590.5896   -81.4355  True \n",
      "  5      11    -89.3818  -350.8906   172.1271 False \n",
      "  5      12    494.2035   278.9326   709.4744  True \n",
      "  5      13    35.6004   -257.7123   328.9132 False \n",
      "  5      14    179.6874   -39.7688   399.1436 False \n",
      "  5      15    477.3909   218.5924   736.1895  True \n",
      "  5      16    68.2841   -153.7913   290.3596 False \n",
      "  5      17     517.53    309.1127   725.9473  True \n",
      "  5      18   -155.1776  -462.2744   151.9193 False \n",
      "  5      19   -634.5998  -919.1184  -350.0813  True \n",
      "  5      20   -507.7495  -720.7092  -294.7898  True \n",
      "  6      7     165.7967    1.4994    330.094   True \n",
      "  6      8     240.1299  -290.4777   770.7375 False \n",
      "  6      9    -622.0427  -913.3437  -330.7417  True \n",
      "  6      10   -283.5422  -510.8427   -56.2418  True \n",
      "  6      11    -36.9114  -271.9495   198.1266 False \n",
      "  6      12    546.6738   364.4719   728.8758  True \n",
      "  6      13    88.0708   -181.9077   358.0492 False \n",
      "  6      14    232.1578   45.0294    419.2862  True \n",
      "  6      15    529.8613   297.8426    761.88   True \n",
      "  6      16    120.7545   -69.4388   310.9478 False \n",
      "  6      17    570.0004   395.9493   744.0515  True \n",
      "  6      18   -102.7072   -387.601   182.1866 False \n",
      "  6      19   -582.1295  -842.5269   -321.732  True \n",
      "  6      20   -455.2791  -634.7446  -275.8136  True \n",
      "  7      8     74.3333   -443.6786   592.3451 False \n",
      "  7      9    -787.8393  -1055.511  -520.1677  True \n",
      "  7      10   -449.3389  -645.4442  -253.2335  True \n",
      "  7      11   -202.7081  -407.7318    2.3156  False \n",
      "  7      12    380.8772   239.4934   522.261   True \n",
      "  7      13    -77.7259  -322.0212   166.5694 False \n",
      "  7      14    66.3611    -81.317    214.0393 False \n",
      "  7      15    364.0646   162.5094   565.6199  True \n",
      "  7      16    -45.0422  -196.5853   106.501  False \n",
      "  7      17    404.2037   273.4918   534.9156  True \n",
      "  7      18   -268.5039  -529.1881   -7.8196   True \n",
      "  7      19   -747.9261  -981.5896  -514.2626  True \n",
      "  7      20   -621.0758   -758.915  -483.2365  True \n",
      "  8      9    -862.1726  -1433.3109 -291.0343  True \n",
      "  8      10   -523.6721  -1064.9744  17.6301  False \n",
      "  8      11   -277.0413   -821.638   267.5553 False \n",
      "  8      12    306.5439  -217.4219   830.5098 False \n",
      "  8      13   -152.0591  -712.6223   408.504  False \n",
      "  8      14    -7.9721   -533.6713   517.7271 False \n",
      "  8      15    289.7314   -253.569   833.0318 False \n",
      "  8      16   -119.3754  -646.1734   407.4226 False \n",
      "  8      17    329.8705   -191.317   851.058  False \n",
      "  8      18   -342.8371  -910.7342    225.06  False \n",
      "  8      19   -822.2594  -1378.2715 -266.2473  True \n",
      "  8      20    -695.409  -1218.4296 -172.3885  True \n",
      "  9      10    338.5005   28.1459    648.8551  True \n",
      "  9      11    585.1313   269.0658   901.1967  True \n",
      "  9      12   1168.7165   889.6967  1447.7363  True \n",
      "  9      13    710.1135   367.2682  1052.9587  True \n",
      "  9      14    854.2005   571.939    1136.462  True \n",
      "  9      15    1151.904   838.0773  1465.7307  True \n",
      "  9      16    742.7972   458.4945  1027.0998  True \n",
      "  9      17   1192.0431   918.2762  1465.8099  True \n",
      "  9      18    519.3355   164.6258   874.0452  True \n",
      "  9      19    39.9132   -295.4393   375.2658 False \n",
      "  9      20    166.7636   -110.477   444.0042 False \n",
      "  10     11    246.6308   -11.6454   504.907  False \n",
      "  10     12    830.2161   618.8839  1041.5482  True \n",
      "  10     13    371.613    81.1787    662.0473  True \n",
      "  10     14     515.7     300.1061   731.2939  True \n",
      "  10     15    813.4035   557.8719  1068.9351  True \n",
      "  10     16    404.2967   186.0372   622.5562  True \n",
      "  10     17    853.5426   649.1961  1057.8891  True \n",
      "  10     18    180.835   -123.5138   485.1838 False \n",
      "  10     19   -298.5872  -580.1375   -17.037   True \n",
      "  10     20   -171.7369  -380.7143   37.2405  False \n",
      "  11     12    583.5853   363.9523   803.2183  True \n",
      "  11     13    124.9822  -171.5469   421.5113 False \n",
      "  11     14    269.0692   45.3325    492.806   True \n",
      "  11     15    566.7727   304.3346   829.2109  True \n",
      "  11     16    157.6659   -68.6405   383.9724 False \n",
      "  11     17    606.9118   393.9919   819.8317  True \n",
      "  11     18    -65.7958   -375.966   244.3745 False \n",
      "  11     19    -545.218  -833.0512  -257.3849  True \n",
      "  11     20   -418.3677  -635.7359  -200.9994  True \n",
      "  12     13   -458.6031  -715.2822   -201.924  True \n",
      "  12     14    -314.516  -481.8863  -147.1458  True \n",
      "  12     15    -16.8125  -233.2114   199.5863 False \n",
      "  12     16   -425.9193  -596.7095  -255.1292  True \n",
      "  12     17    23.3265   -129.2826   175.9357 False \n",
      "  12     18    -649.381  -921.7049  -377.0572  True \n",
      "  12     19   -1128.8033 -1375.3851 -882.2215  True \n",
      "  12     20   -1001.9529 -1160.7094 -843.1965  True \n",
      "  13     14    144.087   -116.1122   404.2862 False \n",
      "  13     15    441.7905   147.6489   735.9321  True \n",
      "  13     16    32.6837   -229.7283   295.0958 False \n",
      "  13     17    481.9296   230.9707   732.8885  True \n",
      "  13     18    -190.778  -528.1962   146.6403 False \n",
      "  13     19   -670.2002  -987.2072  -353.1933  True \n",
      "  13     20   -543.3499  -798.0937   -288.606  True \n",
      "  14     15    297.7035   77.1407    518.2663  True \n",
      "  14     16   -111.4033  -287.4395   64.6329  False \n",
      "  14     17    337.8426   179.3843   496.3009  True \n",
      "  14     18    -334.865  -610.5092   -59.2208  True \n",
      "  14     19   -814.2873  -1064.5313 -564.0432  True \n",
      "  14     20   -687.4369  -851.8239  -523.0499  True \n",
      "  15     16   -409.1068  -632.2758  -185.9378  True \n",
      "  15     17    40.1391   -169.4431   249.7212 False \n",
      "  15     18   -632.5685  -940.4571  -324.6799  True \n",
      "  15     19   -1111.9908 -1397.3637 -826.6178  True \n",
      "  15     20   -985.1404  -1199.2403 -771.0406  True \n",
      "  16     17    449.2459   287.1796   611.3122  True \n",
      "  16     18   -223.4617  -501.1957   54.2723  False \n",
      "  16     19    -702.884  -955.4281  -450.3398  True \n",
      "  16     20   -576.0336  -743.9013  -408.1659  True \n",
      "  17     18   -672.7076  -939.6467  -405.7685  True \n",
      "  17     19   -1152.1298 -1392.7516 -911.5081  True \n",
      "  17     20   -1025.2795 -1174.6108 -875.9482  True \n",
      "  18     19   -479.4223  -809.2245   -149.62   True \n",
      "  18     20   -352.5719  -623.0725   -82.0714  True \n",
      "  19     20    126.8504  -117.7164   371.4171 False \n",
      "----------------------------------------------------\n"
     ]
    }
   ],
   "source": [
    "mc2 = MultiComparison(customer_data.Purchase, customer_data.Occupation)\n",
    "result2 = mc2.tukeyhsd(alpha=0.01)\n",
    "\n",
    "print(result2)"
   ]
  },
  {
   "cell_type": "code",
   "execution_count": null,
   "metadata": {},
   "outputs": [],
   "source": []
  }
 ],
 "metadata": {
  "kernelspec": {
   "display_name": "Python 3",
   "language": "python",
   "name": "python3"
  },
  "language_info": {
   "codemirror_mode": {
    "name": "ipython",
    "version": 3
   },
   "file_extension": ".py",
   "mimetype": "text/x-python",
   "name": "python",
   "nbconvert_exporter": "python",
   "pygments_lexer": "ipython3",
   "version": "3.6.5"
  }
 },
 "nbformat": 4,
 "nbformat_minor": 2
}
